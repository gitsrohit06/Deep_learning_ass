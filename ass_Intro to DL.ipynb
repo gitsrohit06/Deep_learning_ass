{
  "metadata": {
    "kernelspec": {
      "name": "python",
      "display_name": "Python (Pyodide)",
      "language": "python"
    },
    "language_info": {
      "codemirror_mode": {
        "name": "python",
        "version": 3
      },
      "file_extension": ".py",
      "mimetype": "text/x-python",
      "name": "python",
      "nbconvert_exporter": "python",
      "pygments_lexer": "ipython3",
      "version": "3.8"
    }
  },
  "nbformat_minor": 4,
  "nbformat": 4,
  "cells": [
    {
      "cell_type": "markdown",
      "source": "#### 1.Explain what deep learning is and discuss its significance in the broader field of artificial intelligence",
      "metadata": {}
    },
    {
      "cell_type": "markdown",
      "source": "Ans :\n\nDeep learning is a subset of machine learning that involves training neural networks with many layers (hence \"deep\") to perform tasks like classification, regression, object detection, and natural language processing. Deep learning models are capable of automatically learning hierarchical features from raw data without the need for manual feature engineering.\n\nSignificance in Artificial Intelligence (AI):\n\nFeature Learning: Deep learning eliminates the need for manual feature extraction by learning representations directly from data.\nPerformance: Deep learning models have achieved state-of-the-art performance in various domains, such as image recognition, speech processing, and natural language understanding.\nVersatility: It is highly adaptable to various AI tasks, including computer vision, language translation, autonomous driving, and more.\nScalability: With large datasets and computational power (GPUs/TPUs), deep learning models can scale and improve performance with more data.\n",
      "metadata": {}
    },
    {
      "cell_type": "markdown",
      "source": "#### 2. List and explain the fundamental components of artificial neural networks.",
      "metadata": {}
    },
    {
      "cell_type": "markdown",
      "source": "Ans :\n\nAn artificial neural network (ANN) is made up of the following key components:\n\nInput Layer: This is where the network receives data. Each neuron in this layer corresponds to a feature from the input dataset.\nHidden Layers: These are the layers between the input and output layers where most computations occur. Hidden layers are responsible for learning complex patterns in the data.\nOutput Layer: This layer produces the final prediction or classification based on the input data.\nNeurons: Each layer consists of neurons (or nodes), which are the individual units that perform computations.\nConnections: Neurons in one layer are connected to neurons in the next layer, and each connection carries a weight that determines its influence.\nWeights: Weights are the parameters that are learned during training. They control the strength of the connection between neurons.\nBiases: Bias terms are added to the input to a neuron, allowing the model to fit the data more accurately by shifting the activation function.\n",
      "metadata": {}
    },
    {
      "cell_type": "markdown",
      "source": "#### 3.Discuss the roles of neurons, connections, weights, and biases.",
      "metadata": {}
    },
    {
      "cell_type": "markdown",
      "source": "Ans :\n\nNeurons: These are the basic units of computation in a neural network. Each neuron receives inputs, processes them, and produces an output. Neurons simulate biological neurons by summing inputs, applying weights, and passing the result through an activation function.\n\nConnections: These represent the flow of information between neurons in adjacent layers. Every connection carries a weight that determines how much influence one neuron has on another.\n\nWeights: Weights are adjustable parameters that define the importance of each input. During training, weights are updated to minimize the error of the network, essentially learning which inputs are more important for making predictions.\n\nBiases: Bias terms allow the network to adjust the output independently of the input value, providing flexibility in fitting the data. Biases ensure that even when all input features are zero, the neuron can still produce a non-zero output.",
      "metadata": {}
    },
    {
      "cell_type": "markdown",
      "source": "#### 4.Illustrate the architecture of an artificial neural network. Provide an example to explain the flow of information through the network.",
      "metadata": {}
    },
    {
      "cell_type": "markdown",
      "source": "Ans :\n\nThe architecture of an artificial neural network can be represented as:\n\nInput Layer: Each node corresponds to a feature in the input data.\n\nHidden Layers: Intermediate layers where each neuron is connected to every neuron in the previous and next layer (in fully connected networks).\n\nOutput Layer: This produces the final output.\n",
      "metadata": {}
    },
    {
      "cell_type": "markdown",
      "source": "#### 5.Outline the perceptron learning algorithm. Describe how weights are adjusted during the learning proces",
      "metadata": {}
    },
    {
      "cell_type": "markdown",
      "source": "Ans :\n\nThe perceptron is the simplest type of neural network, consisting of a single neuron used for binary classification.\n\nAlgorithm:\n\nInitialization: Start with random weights and a bias.\n\nForward Pass: For each training example, calculate the output by multiplying the input by the weights, adding the bias, and applying a step activation function to determine the output.\n\nError Calculation: Compare the predicted output to the actual label (target).\n\nWeight Update: Adjust the weights based on the error using the perceptron learning rule:\n\n\nRepeat: The process is repeated for multiple epochs until the weights converge and the perceptron classifies all training data correctly (or to a satisfactory level).\n\nWeight Adjustment: The perceptron updates its weights to minimize the classification error, which is crucial in learning from data.\n\n",
      "metadata": {}
    },
    {
      "cell_type": "markdown",
      "source": "#### 6.Discuss the importance of activation functions in the hidden layers of a multi-layer perceptron. Provide examples of commonly used activation functions\n\n",
      "metadata": {}
    },
    {
      "cell_type": "markdown",
      "source": "Ans :\n\nActivation functions are critical in multi-layer perceptrons (MLP) because they introduce non-linearity to the network, enabling it to learn and approximate complex functions. Without activation functions, the model would be a linear function, no matter how many hidden layers it has.\n\nWhy Non-Linearity is Important: Most real-world data and problems are non-linear. Without non-linear activation functions, MLPs would not be able to solve problems like image recognition or speech processing, which require capturing complex relationships in data.\nCommonly Used Activation Functions:\n\nSigmoid (Logistic):\n\nEquation:\n𝜎\n(\n𝑥\n)\n=\n1\n1\n+\n𝑒\n−\n𝑥\nσ(x)= \n1+e \n−x\n \n1\n​\n \nRange: 0 to 1.\nUse Case: Often used in the output layer for binary classification tasks.\nPros: Provides smooth gradients and outputs in the range of probabilities (0 to 1).\nCons: Prone to vanishing gradient problem, which slows down learning in deep networks.\nReLU (Rectified Linear Unit):\n\nEquation:\n𝑓\n(\n𝑥\n)\n=\nmax\n⁡\n(\n0\n,\n𝑥\n)\nf(x)=max(0,x)\nRange: 0 to infinity.\nUse Case: Most commonly used in hidden layers of deep networks.\nPros: Computationally efficient and helps mitigate the vanishing gradient problem.\nCons: Can suffer from dead neurons where neurons stop learning (when inputs are always negative).\nTanh (Hyperbolic Tangent):\n\nEquation:\ntanh(𝑥)=e x−e −x /e x+e −x\n\n\nRange: -1 to 1.\nUse Case: Commonly used in hidden layers, similar to Sigmoid but with zero-centered outputs.\nPros: Zero-centered, which helps during optimization.\nCons: Still prone to vanishing gradient problem for large networks.\nLeaky ReLU:\n\nEquation:\n𝑓(𝑥)=𝑥  if 𝑥> 0 else 𝛼𝑥\nf(x)=xifx>0elseαx\nRange: Negative infinity to infinity.\nUse Case: Used to address the dead neuron problem in standard ReLU.\nPros: Allows for small gradients even when inputs are negative, preventing dead neurons.\n",
      "metadata": {}
    },
    {
      "cell_type": "markdown",
      "source": "### Various Neural Network Architect Overview Assignments",
      "metadata": {}
    },
    {
      "cell_type": "markdown",
      "source": "#### 1. Describe the basic structure of a Feedforward Neural Network (FNN). What is the purpose of the  activation function? ",
      "metadata": {}
    },
    {
      "cell_type": "markdown",
      "source": "Ans :\n\nA Feedforward Neural Network (FNN) is a type of artificial neural network where the connections between the nodes do not form cycles. Information moves in one direction—from the input layer, through the hidden layers (if any), and finally to the output layer.\n\nInput Layer: The input layer takes the features from the data.\nHidden Layers: Intermediate layers where computation is performed. Each neuron in the hidden layers applies a weight to the input and passes it through an activation function.\nOutput Layer: Produces the final prediction or classification.\nPurpose of the Activation Function:\n\nThe activation function introduces non-linearity into the network, allowing the model to capture complex patterns and relationships in the data. Without it, no matter how many layers the network has, the output would be a linear transformation of the input. Common activation functions include ReLU, Sigmoid, and Tanh.",
      "metadata": {}
    },
    {
      "cell_type": "markdown",
      "source": "#### 2 Explain the role of convolutional layers in CNN. Why are pooling layers commonly used, and what do they achieve?\n",
      "metadata": {}
    },
    {
      "cell_type": "markdown",
      "source": "Ans :\n\nIn Convolutional Neural Networks (CNNs), the convolutional layers perform feature extraction by applying filters (or kernels) to the input image or feature map.\n\nConvolution Operation: Each filter slides over the input and performs element-wise multiplication, producing feature maps that highlight various aspects of the input (such as edges, textures, or patterns).\nRole: Convolutional layers enable the network to learn spatial hierarchies, recognizing features like edges, corners, and complex objects at various levels of abstraction.\nPooling Layers:\n\nPooling layers are used to reduce the spatial dimensions of the feature maps, leading to fewer parameters and computations, which makes the model more efficient and reduces overfitting.\nMax Pooling: Takes the maximum value from a region of the feature map.\nAverage Pooling: Takes the average value from a region of the feature map.\nPooling layers help downsample the feature map while retaining the most important information.`",
      "metadata": {}
    },
    {
      "cell_type": "markdown",
      "source": "#### 3 What is the key characteristic that differentiates Recurrent Neural Networks (RNNs) from other neural networks? How does an RNN handle sequential data?",
      "metadata": {}
    },
    {
      "cell_type": "markdown",
      "source": "Ans :\n\nThe key characteristic that differentiates Recurrent Neural Networks (RNNs) from other neural networks is their ability to handle sequential data. In RNNs, the output of a neuron is fed back into the network as input to the next step. This feedback loop enables RNNs to retain information from previous steps, making them effective for time-series data, natural language processing, and other sequential tasks.\n\nHow RNN Handles Sequential Data:\n\nAt each time step, the RNN processes the current input along with the hidden state from the previous time step.\nThe hidden state acts as a memory, storing information about previous inputs in the sequence.\nThis allows RNNs to capture dependencies and patterns in sequential data.\n",
      "metadata": {}
    },
    {
      "cell_type": "markdown",
      "source": "#### 4 . Discuss the components of a Long Short-Term Memory (LSTM) network. How does it address the vanishing gradient problem?",
      "metadata": {}
    },
    {
      "cell_type": "markdown",
      "source": "Ans :\n\nLSTM is a special type of RNN designed to overcome the vanishing gradient problem and retain long-term dependencies in sequential data. LSTMs contain multiple gates that regulate the flow of information:\n\nForget Gate: Decides which parts of the previous memory to forget.\nInput Gate: Decides which new information to store in the memory.\nCell State: The memory of the network, which is updated by the input and forget gates.\nOutput Gate: Determines what to output at the current time step, based on the cell state.\nHow LSTM Addresses the Vanishing Gradient Problem:\n\nBy using gates, LSTMs can control the flow of information and gradients more effectively, preventing the gradients from becoming too small (or \"vanishing\") over long sequences. This allows the model to learn long-term dependencies.",
      "metadata": {}
    },
    {
      "cell_type": "markdown",
      "source": "#### 5 Describe the roles of the generator and discriminator in a Generative Adversarial Network (GAN). What is the training objective for each",
      "metadata": {}
    },
    {
      "cell_type": "markdown",
      "source": "Ans :\n\nGenerative Adversarial Networks (GANs) consist of two competing networks: the generator and the discriminator.\n\nGenerator: The generator takes random noise as input and attempts to create fake data that resemble the real data.\n\nObjective: Fool the discriminator into believing that the generated (fake) data is real.\nTraining Goal: Minimize the discriminator’s ability to correctly classify fake data by improving the quality of generated data over time.\nDiscriminator: The discriminator takes real or fake data as input and classifies whether the data is real or fake.\n\nObjective: Correctly distinguish between real data and fake data generated by the generator.\nTraining Goal: Maximize its ability to identify real data from fake data.\nTraining Objective:\n\nThe generator tries to minimize the loss function by generating better fake data, while the discriminator tries to maximize the loss by correctly identifying fake data. This adversarial process pushes both networks to improve over time.",
      "metadata": {}
    },
    {
      "cell_type": "code",
      "source": "",
      "metadata": {
        "trusted": true
      },
      "outputs": [],
      "execution_count": null
    }
  ]
}